{
  "cells": [
    {
      "cell_type": "code",
      "execution_count": null,
      "metadata": {
        "id": "9O78O6n5ADjK"
      },
      "outputs": [],
      "source": [
        "##############################################\n",
        "### PART0: upload file & env setting ########\n",
        "##############################################"
      ]
    },
    {
      "cell_type": "code",
      "execution_count": null,
      "metadata": {
        "id": "fS8910iYq7Lf"
      },
      "outputs": [],
      "source": [
        "# upload fasta\n",
        "import os\n",
        "import shutil\n",
        "from google.colab import files\n",
        "\n",
        "# upload dir\n",
        "os.makedirs('/content/input_fasta/', exist_ok=True)\n",
        "\n",
        "# upload\n",
        "uploaded = files.upload()\n",
        "\n",
        "# save fasta to dir\n",
        "for filename in uploaded.keys():\n",
        "    file_path = os.path.join('/content/input_fasta/', filename)\n",
        "    with open(file_path, 'wb') as f:\n",
        "        f.write(uploaded[filename])\n"
      ]
    },
    {
      "cell_type": "code",
      "execution_count": null,
      "metadata": {
        "id": "2Lx0fN1HXYa1"
      },
      "outputs": [],
      "source": [
        "# Git clone original files\n",
        "!git clone https://github.com/orca233/DeepSS2GO_v2_colab.git\n",
        "\n",
        "\n",
        "# # mv fasta to dir\n",
        "for filename in uploaded.keys():\n",
        "    source = os.path.join('/content/input_fasta/', filename)\n",
        "    destination = '/content/DeepSS2GO_v2_colab/pub_data/data_new/new_aa.fa'\n",
        "    shutil.move(source, destination)\n",
        "    print(f\"File copied to {destination}\")\n"
      ]
    },
    {
      "cell_type": "code",
      "execution_count": null,
      "metadata": {
        "id": "EsS6NyGCrW8o"
      },
      "outputs": [],
      "source": [
        "!python -V\n",
        "!pip -V"
      ]
    },
    {
      "cell_type": "code",
      "execution_count": null,
      "metadata": {
        "collapsed": true,
        "id": "aDpcgP7X-ayp"
      },
      "outputs": [],
      "source": [
        "# Since colab use python 3.10 by default, we need to reinstall py3.8\n",
        "\n",
        "# Since py3.8 does not have '_ctypes', so need to pre-install 'libffi-dev'\n",
        "!sudo apt-get install libffi-dev\n",
        "\n",
        "# 'pyenv' installation & configuration\n",
        "!apt-get install -y build-essential checkinstall\n",
        "!apt-get install -y libreadline-gplv2-dev libncursesw5-dev libssl-dev libsqlite3-dev tk-dev libgdbm-dev libc6-dev libbz2-dev libffi-dev zlib1g-dev\n",
        "!curl https://pyenv.run | bash\n",
        "\n",
        "# Configuring environment variables：\n",
        "import os\n",
        "\n",
        "os.environ[\"PATH\"] = \"/root/.pyenv/bin:/root/.pyenv/shims:/root/.pyenv/plugins/pyenv-virtualenv/shims:\" + os.environ[\"PATH\"]\n",
        "!pyenv init -\n",
        "!pyenv virtualenv-init -\n",
        "\n",
        "# install Python 3.8\n",
        "!pyenv install 3.8.12\n",
        "!pyenv global 3.8.12\n",
        "\n",
        "# reinstall pip\n",
        "!curl https://bootstrap.pypa.io/get-pip.py -o get-pip.py\n",
        "!python get-pip.py\n"
      ]
    },
    {
      "cell_type": "code",
      "execution_count": null,
      "metadata": {
        "id": "TMi-GDoBZeLS"
      },
      "outputs": [],
      "source": [
        "# environment setup\n",
        "\n",
        "# py lib\n",
        "!pip install click==8.1.3\n",
        "!pip install fair-esm==2.0.0\n",
        "# !pip install matplotlib==3.7.1\n",
        "!pip install numpy==1.24.3\n",
        "!pip install pandas==1.3.5\n",
        "!pip install scikit-learn==1.2.2\n",
        "!pip install scipy==1.10.1\n",
        "!pip install seaborn==0.12.2\n",
        "!pip install torch==1.8.0+cu111 torchaudio==0.8.0 torchvision==0.9.0+cu111 -f https://download.pytorch.org/whl/torch_stable.html\n",
        "!pip install torchsummary==1.5.1\n",
        "!pip install tqdm==4.65.0\n",
        "!pip install transformers==4.29.2\n",
        "\n",
        "# BLAST\n",
        "!apt-get install ncbi-blast+\n",
        "\n",
        "# Diamond\n",
        "!wget http://github.com/bbuchfink/diamond/releases/download/v2.1.7/diamond-linux64.tar.gz\n",
        "!tar xzf diamond-linux64.tar.gz\n",
        "!cp diamond /usr/local/bin/\n",
        "!diamond version  # confirm success"
      ]
    },
    {
      "cell_type": "code",
      "execution_count": null,
      "metadata": {
        "id": "Q7eCpr6IBiv0"
      },
      "outputs": [],
      "source": [
        "!python -V\n",
        "!pip -V"
      ]
    },
    {
      "cell_type": "code",
      "execution_count": null,
      "metadata": {
        "id": "-JvDhGUbhuyH"
      },
      "outputs": [],
      "source": [
        "#################################\n",
        "### PART1: from aa to ss8 #######\n",
        "#################################"
      ]
    },
    {
      "cell_type": "code",
      "source": [
        "# transfer aa to ss8 by NetSurfP - 3.0\n",
        "https://dtu.biolib.com/NetSurfP-3/\n",
        "\n",
        "https://services.healthtech.dtu.dk/services/NetSurfP-3.0/\n",
        "\n",
        "https://colab.research.google.com/drive/1XQ4-WRKAOXa81XZbcEosrG7dS09gc8MI?usp=sharing\n",
        "\n",
        "# Download csv format from NetSurfP\n",
        "# It may contains several protein ids\n"
      ],
      "metadata": {
        "id": "6_3L_TZ5XiW0"
      },
      "execution_count": null,
      "outputs": []
    },
    {
      "cell_type": "code",
      "source": [
        "# Upload the NetSurfP CSV file\n",
        "# It may contains several protein ss8\n",
        "\n",
        "\n",
        "import os\n",
        "from google.colab import files\n",
        "import pandas as pd\n",
        "\n",
        "# 上传并保存CSV文件\n",
        "os.makedirs('/content/NetSurfP3/', exist_ok=True)\n",
        "\n",
        "# 上传CSV文件\n",
        "uploaded = files.upload()\n",
        "\n",
        "# 保存CSV文件到指定目录\n",
        "for filename in uploaded.keys():\n",
        "    file_path = os.path.join('/content/NetSurfP3/', filename)\n",
        "    with open(file_path, 'wb') as f:\n",
        "        f.write(uploaded[filename])\n",
        "\n",
        "print(\"CSV文件已上传并保存到/content/NetSurfP3/NetSurfP3_results.csv\")\n",
        "\n",
        "# 读取CSV文件并打印列名\n",
        "input_csv_path = '/content/NetSurfP3/NetSurfP3_results.csv'\n",
        "df = pd.read_csv(input_csv_path)\n",
        "print(\"CSV文件的列名：\", df.columns)\n",
        "\n",
        "# 提取ID和\" q8\"信息\n",
        "ids = df['id'].unique()\n",
        "q8_dict = {id_: ''.join(df[df['id'] == id_][' q8'].tolist()) for id_ in ids}\n",
        "\n",
        "# 创建输出目录\n",
        "os.makedirs('/content/DeepSS2GO_v2_colab/pub_data/data_new', exist_ok=True)\n",
        "output_fasta_path = '/content/DeepSS2GO_v2_colab/pub_data/data_new/new_clean_ss8.fa'\n",
        "\n",
        "# 保存到FASTA文件\n",
        "with open(output_fasta_path, 'w') as f:\n",
        "    for id_, q8 in q8_dict.items():\n",
        "        f.write(f\"{id_}\\n{q8}\\n\")\n",
        "\n",
        "print(f\"FASTA文件已保存到: {output_fasta_path}\")\n"
      ],
      "metadata": {
        "id": "OO0xaMW4Sqf7",
        "outputId": "c9ea9d11-a93a-432d-8016-2f71eaf6ae91",
        "colab": {
          "base_uri": "https://localhost:8080/",
          "height": 201
        }
      },
      "execution_count": 1,
      "outputs": [
        {
          "output_type": "display_data",
          "data": {
            "text/plain": [
              "<IPython.core.display.HTML object>"
            ],
            "text/html": [
              "\n",
              "     <input type=\"file\" id=\"files-c91b7c5f-917f-40e4-a511-bbe2877e1274\" name=\"files[]\" multiple disabled\n",
              "        style=\"border:none\" />\n",
              "     <output id=\"result-c91b7c5f-917f-40e4-a511-bbe2877e1274\">\n",
              "      Upload widget is only available when the cell has been executed in the\n",
              "      current browser session. Please rerun this cell to enable.\n",
              "      </output>\n",
              "      <script>// Copyright 2017 Google LLC\n",
              "//\n",
              "// Licensed under the Apache License, Version 2.0 (the \"License\");\n",
              "// you may not use this file except in compliance with the License.\n",
              "// You may obtain a copy of the License at\n",
              "//\n",
              "//      http://www.apache.org/licenses/LICENSE-2.0\n",
              "//\n",
              "// Unless required by applicable law or agreed to in writing, software\n",
              "// distributed under the License is distributed on an \"AS IS\" BASIS,\n",
              "// WITHOUT WARRANTIES OR CONDITIONS OF ANY KIND, either express or implied.\n",
              "// See the License for the specific language governing permissions and\n",
              "// limitations under the License.\n",
              "\n",
              "/**\n",
              " * @fileoverview Helpers for google.colab Python module.\n",
              " */\n",
              "(function(scope) {\n",
              "function span(text, styleAttributes = {}) {\n",
              "  const element = document.createElement('span');\n",
              "  element.textContent = text;\n",
              "  for (const key of Object.keys(styleAttributes)) {\n",
              "    element.style[key] = styleAttributes[key];\n",
              "  }\n",
              "  return element;\n",
              "}\n",
              "\n",
              "// Max number of bytes which will be uploaded at a time.\n",
              "const MAX_PAYLOAD_SIZE = 100 * 1024;\n",
              "\n",
              "function _uploadFiles(inputId, outputId) {\n",
              "  const steps = uploadFilesStep(inputId, outputId);\n",
              "  const outputElement = document.getElementById(outputId);\n",
              "  // Cache steps on the outputElement to make it available for the next call\n",
              "  // to uploadFilesContinue from Python.\n",
              "  outputElement.steps = steps;\n",
              "\n",
              "  return _uploadFilesContinue(outputId);\n",
              "}\n",
              "\n",
              "// This is roughly an async generator (not supported in the browser yet),\n",
              "// where there are multiple asynchronous steps and the Python side is going\n",
              "// to poll for completion of each step.\n",
              "// This uses a Promise to block the python side on completion of each step,\n",
              "// then passes the result of the previous step as the input to the next step.\n",
              "function _uploadFilesContinue(outputId) {\n",
              "  const outputElement = document.getElementById(outputId);\n",
              "  const steps = outputElement.steps;\n",
              "\n",
              "  const next = steps.next(outputElement.lastPromiseValue);\n",
              "  return Promise.resolve(next.value.promise).then((value) => {\n",
              "    // Cache the last promise value to make it available to the next\n",
              "    // step of the generator.\n",
              "    outputElement.lastPromiseValue = value;\n",
              "    return next.value.response;\n",
              "  });\n",
              "}\n",
              "\n",
              "/**\n",
              " * Generator function which is called between each async step of the upload\n",
              " * process.\n",
              " * @param {string} inputId Element ID of the input file picker element.\n",
              " * @param {string} outputId Element ID of the output display.\n",
              " * @return {!Iterable<!Object>} Iterable of next steps.\n",
              " */\n",
              "function* uploadFilesStep(inputId, outputId) {\n",
              "  const inputElement = document.getElementById(inputId);\n",
              "  inputElement.disabled = false;\n",
              "\n",
              "  const outputElement = document.getElementById(outputId);\n",
              "  outputElement.innerHTML = '';\n",
              "\n",
              "  const pickedPromise = new Promise((resolve) => {\n",
              "    inputElement.addEventListener('change', (e) => {\n",
              "      resolve(e.target.files);\n",
              "    });\n",
              "  });\n",
              "\n",
              "  const cancel = document.createElement('button');\n",
              "  inputElement.parentElement.appendChild(cancel);\n",
              "  cancel.textContent = 'Cancel upload';\n",
              "  const cancelPromise = new Promise((resolve) => {\n",
              "    cancel.onclick = () => {\n",
              "      resolve(null);\n",
              "    };\n",
              "  });\n",
              "\n",
              "  // Wait for the user to pick the files.\n",
              "  const files = yield {\n",
              "    promise: Promise.race([pickedPromise, cancelPromise]),\n",
              "    response: {\n",
              "      action: 'starting',\n",
              "    }\n",
              "  };\n",
              "\n",
              "  cancel.remove();\n",
              "\n",
              "  // Disable the input element since further picks are not allowed.\n",
              "  inputElement.disabled = true;\n",
              "\n",
              "  if (!files) {\n",
              "    return {\n",
              "      response: {\n",
              "        action: 'complete',\n",
              "      }\n",
              "    };\n",
              "  }\n",
              "\n",
              "  for (const file of files) {\n",
              "    const li = document.createElement('li');\n",
              "    li.append(span(file.name, {fontWeight: 'bold'}));\n",
              "    li.append(span(\n",
              "        `(${file.type || 'n/a'}) - ${file.size} bytes, ` +\n",
              "        `last modified: ${\n",
              "            file.lastModifiedDate ? file.lastModifiedDate.toLocaleDateString() :\n",
              "                                    'n/a'} - `));\n",
              "    const percent = span('0% done');\n",
              "    li.appendChild(percent);\n",
              "\n",
              "    outputElement.appendChild(li);\n",
              "\n",
              "    const fileDataPromise = new Promise((resolve) => {\n",
              "      const reader = new FileReader();\n",
              "      reader.onload = (e) => {\n",
              "        resolve(e.target.result);\n",
              "      };\n",
              "      reader.readAsArrayBuffer(file);\n",
              "    });\n",
              "    // Wait for the data to be ready.\n",
              "    let fileData = yield {\n",
              "      promise: fileDataPromise,\n",
              "      response: {\n",
              "        action: 'continue',\n",
              "      }\n",
              "    };\n",
              "\n",
              "    // Use a chunked sending to avoid message size limits. See b/62115660.\n",
              "    let position = 0;\n",
              "    do {\n",
              "      const length = Math.min(fileData.byteLength - position, MAX_PAYLOAD_SIZE);\n",
              "      const chunk = new Uint8Array(fileData, position, length);\n",
              "      position += length;\n",
              "\n",
              "      const base64 = btoa(String.fromCharCode.apply(null, chunk));\n",
              "      yield {\n",
              "        response: {\n",
              "          action: 'append',\n",
              "          file: file.name,\n",
              "          data: base64,\n",
              "        },\n",
              "      };\n",
              "\n",
              "      let percentDone = fileData.byteLength === 0 ?\n",
              "          100 :\n",
              "          Math.round((position / fileData.byteLength) * 100);\n",
              "      percent.textContent = `${percentDone}% done`;\n",
              "\n",
              "    } while (position < fileData.byteLength);\n",
              "  }\n",
              "\n",
              "  // All done.\n",
              "  yield {\n",
              "    response: {\n",
              "      action: 'complete',\n",
              "    }\n",
              "  };\n",
              "}\n",
              "\n",
              "scope.google = scope.google || {};\n",
              "scope.google.colab = scope.google.colab || {};\n",
              "scope.google.colab._files = {\n",
              "  _uploadFiles,\n",
              "  _uploadFilesContinue,\n",
              "};\n",
              "})(self);\n",
              "</script> "
            ]
          },
          "metadata": {}
        },
        {
          "output_type": "stream",
          "name": "stdout",
          "text": [
            "Saving NetSurfP3_results.csv to NetSurfP3_results.csv\n",
            "CSV文件已上传并保存到/content/NetSurfP3/NetSurfP3_results.csv\n",
            "CSV文件的列名： Index(['id', ' seq', ' n', ' rsa', ' asa', ' q3', ' p[q3_H]', ' p[q3_E]',\n",
            "       ' p[q3_C]', ' q8', ' p[q8_G]', ' p[q8_H]', ' p[q8_I]', ' p[q8_B]',\n",
            "       ' p[q8_E]', ' p[q8_S]', ' p[q8_T]', ' p[q8_C]', ' phi', ' psi',\n",
            "       ' disorder'],\n",
            "      dtype='object')\n",
            "FASTA文件已保存到: /content/DeepSS2GO_v2_colab/pub_data/data_new/new_clean_ss8.fa\n"
          ]
        }
      ]
    },
    {
      "cell_type": "code",
      "execution_count": null,
      "metadata": {
        "id": "f0Jmz6bub1Ed"
      },
      "outputs": [],
      "source": [
        "###################################\n",
        "####### PART2: predict func #######\n",
        "###################################"
      ]
    },
    {
      "cell_type": "code",
      "source": [
        "# only for colab_free\n",
        "\n",
        "# upload new_clean_aa.fa\n",
        "import os\n",
        "import shutil\n",
        "from google.colab import files\n",
        "\n",
        "# upload dir\n",
        "os.makedirs('/content/input_fasta/', exist_ok=True)\n",
        "\n",
        "# upload\n",
        "uploaded = files.upload()\n",
        "\n",
        "# save fasta to dir\n",
        "for filename in uploaded.keys():\n",
        "    file_path = os.path.join('/content/input_fasta/', filename)\n",
        "    with open(file_path, 'wb') as f:\n",
        "        f.write(uploaded[filename])\n",
        "\n",
        "\n",
        "# # mv fasta to dir\n",
        "for filename in uploaded.keys():\n",
        "    source = os.path.join('/content/input_fasta/', filename)\n",
        "    destination = '/content/DeepSS2GO_v2_colab/pub_data/data_new/new_clean_aa.fa'\n",
        "    shutil.move(source, destination)\n",
        "    print(f\"File copied to {destination}\")\n"
      ],
      "metadata": {
        "id": "_X7ZiGhoSumF"
      },
      "execution_count": null,
      "outputs": []
    },
    {
      "cell_type": "code",
      "source": [
        "# # only for colab_free\n",
        "\n",
        "# # upload new_clean_ss8.fa\n",
        "# import os\n",
        "# import shutil\n",
        "# from google.colab import files\n",
        "\n",
        "# # upload dir\n",
        "# os.makedirs('/content/input_fasta/', exist_ok=True)\n",
        "\n",
        "# # upload\n",
        "# uploaded = files.upload()\n",
        "\n",
        "# # save fasta to dir\n",
        "# for filename in uploaded.keys():\n",
        "#     file_path = os.path.join('/content/input_fasta/', filename)\n",
        "#     with open(file_path, 'wb') as f:\n",
        "#         f.write(uploaded[filename])\n",
        "\n",
        "\n",
        "# # # mv fasta to dir\n",
        "# for filename in uploaded.keys():\n",
        "#     source = os.path.join('/content/input_fasta/', filename)\n",
        "#     destination = '/content/DeepSS2GO_v2_colab/pub_data/data_new/new_clean_ss8.fa'\n",
        "#     shutil.move(source, destination)\n",
        "#     print(f\"File copied to {destination}\")\n"
      ],
      "metadata": {
        "id": "PHfpXy60TFjt"
      },
      "execution_count": null,
      "outputs": []
    },
    {
      "cell_type": "code",
      "source": [
        "# for colab_free,\n",
        "# since step6 need pkl\n",
        "\n",
        "%cd /content/DeepSS2GO_v2_colab/PredictNew/s1_DataPreprocessing_PredictNew/\n",
        "\n",
        "!python Alpha_fa2pkl.py -inf /content/DeepSS2GO_v2_colab/pub_data/data_new/new_clean_aa.fa -ouf /content/DeepSS2GO_v2_colab/pub_data/data_new/new_clean_aa.pkl\n",
        "!python Alpha_fa2pkl.py -inf /content/DeepSS2GO_v2_colab/pub_data/data_new/new_clean_ss8.fa -ouf /content/DeepSS2GO_v2_colab/pub_data/data_new/new_clean_ss8.pkl\n",
        "\n"
      ],
      "metadata": {
        "id": "icTUMgu8Pm0q"
      },
      "execution_count": null,
      "outputs": []
    },
    {
      "cell_type": "code",
      "execution_count": null,
      "metadata": {
        "id": "GnXv8JsQgQXG"
      },
      "outputs": [],
      "source": [
        "# Download trained model\n",
        "!wget -O /content/s3_AlphaBeta_bpccmf_v2_colab.tar.gz https://huggingface.co/orca233/DeepSS2GO/resolve/main/s3_AlphaBeta_bpccmf_v2_colab.tar.gz\n",
        "\n",
        "# decompression\n",
        "!tar -xzvf /content/s3_AlphaBeta_bpccmf_v2_colab.tar.gz -C /content/DeepSS2GO_v2_colab/PredictNew/s3_PredictNew_AlphaBeta/s3_AlphaBeta_bpccmf --strip-components=1\n"
      ]
    },
    {
      "cell_type": "code",
      "execution_count": null,
      "metadata": {
        "id": "7cVIne-ZgQUc"
      },
      "outputs": [],
      "source": [
        "%cd /content/DeepSS2GO_v2_colab/PredictNew/s3_PredictNew_AlphaBeta/s3_AlphaBeta_bpccmf/"
      ]
    },
    {
      "cell_type": "code",
      "execution_count": null,
      "metadata": {
        "id": "oQi9e63UgQOH"
      },
      "outputs": [],
      "source": [
        "!bash step6_cpData_Diamond4New.sh"
      ]
    },
    {
      "cell_type": "code",
      "execution_count": null,
      "metadata": {
        "id": "JiELfCrkeNK1"
      },
      "outputs": [],
      "source": [
        "!bash step7_PredictAlphaBeta_New.sh"
      ]
    },
    {
      "cell_type": "code",
      "execution_count": null,
      "metadata": {
        "id": "ltfIG-cneNFN"
      },
      "outputs": [],
      "source": [
        "# download results_bp/cc/mf.csv\n",
        "from google.colab import files\n",
        "\n",
        "files.download('/content/DeepSS2GO_v2_colab/PredictNew/s3_PredictNew_AlphaBeta/s3_AlphaBeta_bpccmf/data/results_bp.csv')\n",
        "\n",
        "files.download('/content/DeepSS2GO_v2_colab/PredictNew/s3_PredictNew_AlphaBeta/s3_AlphaBeta_bpccmf/data/results_cc.csv')\n",
        "\n",
        "files.download('/content/DeepSS2GO_v2_colab/PredictNew/s3_PredictNew_AlphaBeta/s3_AlphaBeta_bpccmf/data/results_mf.csv')\n"
      ]
    },
    {
      "cell_type": "code",
      "execution_count": null,
      "metadata": {
        "id": "ksU_rRudeM9F"
      },
      "outputs": [],
      "source": []
    }
  ],
  "metadata": {
    "accelerator": "GPU",
    "colab": {
      "gpuType": "T4",
      "provenance": []
    },
    "kernelspec": {
      "display_name": "Python 3",
      "name": "python3"
    },
    "language_info": {
      "name": "python"
    }
  },
  "nbformat": 4,
  "nbformat_minor": 0
}